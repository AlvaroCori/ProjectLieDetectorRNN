{
 "cells": [
  {
   "cell_type": "code",
   "execution_count": 38,
   "id": "1b952f52",
   "metadata": {},
   "outputs": [],
   "source": [
    "from scipy.io import wavfile\n",
    "from matplotlib import pyplot as plt\n",
    "import wave\n",
    "import pyaudio\n",
    "import os"
   ]
  },
  {
   "cell_type": "code",
   "execution_count": 39,
   "id": "49dfd2ba",
   "metadata": {},
   "outputs": [],
   "source": [
    "'''\n",
    "Anger (ANG)\n",
    "Disgust (DIS)\n",
    "Fear (FEA)\n",
    "Happy/Joy (HAP)\n",
    "Neutral (NEU)\n",
    "Sad (SAD)\n",
    "'''\n",
    "emotions = dict()\n",
    "emotions[\"ANG\"]=0\n",
    "emotions[\"DIS\"]=0\n",
    "emotions[\"FEA\"]=0\n",
    "emotions[\"HAP\"]=0\n",
    "emotions[\"NEU\"]=0\n",
    "emotions[\"SAD\"]=0"
   ]
  },
  {
   "cell_type": "code",
   "execution_count": 40,
   "id": "f3636119",
   "metadata": {},
   "outputs": [
    {
     "name": "stdout",
     "output_type": "stream",
     "text": [
      "{'ANG': 1271, 'DIS': 1271, 'FEA': 1271, 'HAP': 1271, 'NEU': 1087, 'SAD': 1271}\n"
     ]
    }
   ],
   "source": [
    "\n",
    "paths = f\"{os.getcwd()}\\\\..\\\\Datasets\\\\AudioWav\"\n",
    "dir_list = os.listdir(paths)\n",
    "for path in dir_list:\n",
    "    emotions[path[9:12]]+=1\n",
    "\n",
    "print(emotions)\n",
    "# prints all files\n"
   ]
  },
  {
   "cell_type": "code",
   "execution_count": 43,
   "id": "8d692353",
   "metadata": {},
   "outputs": [],
   "source": [
    "'''\n",
    "Anger (a)\n",
    "Disgust (d)\n",
    "Fear (f)\n",
    "Happy (h)\n",
    "Neutral (n)\n",
    "Saddness (sa)\n",
    "surprise (su)\n",
    "'''\n",
    "emotions = dict()\n",
    "emotions[\"a\"]=0\n",
    "emotions[\"d\"]=0\n",
    "emotions[\"f\"]=0\n",
    "emotions[\"h\"]=0\n",
    "emotions[\"sa\"]=0\n",
    "emotions[\"su\"]=0\n",
    "emotions[\"n\"]=0\n",
    "#Emotion has been described psychologically in discrete categories: anger, disgust, fear, happiness, sadness and surprise. A neutral category is also added to provide recordings of 7 emotion categories."
   ]
  },
  {
   "cell_type": "code",
   "execution_count": 46,
   "id": "d213b649",
   "metadata": {},
   "outputs": [
    {
     "name": "stdout",
     "output_type": "stream",
     "text": [
      "{'a': 60, 'd': 60, 'f': 60, 'h': 60, 'sa': 60, 'su': 60, 'n': 120}\n"
     ]
    }
   ],
   "source": [
    "paths = f\"{os.getcwd()}\\\\..\\\\Datasets\\\\ALL\"\n",
    "dir_list = os.listdir(paths)\n",
    "second_character = \"\"\n",
    "for path in dir_list:\n",
    "    second_character = path[4] if (path[4] == \"a\" or path[4] == \"u\") else \"\"\n",
    "    emotions[path[3]+second_character]+=1\n",
    "\n",
    "print(emotions)"
   ]
  },
  {
   "cell_type": "code",
   "execution_count": null,
   "id": "56175a2f",
   "metadata": {},
   "outputs": [],
   "source": [
    "#https://www.geeksforgeeks.org/python-list-files-in-a-directory/\n",
    "#"
   ]
  },
  {
   "cell_type": "code",
   "execution_count": 130,
   "id": "bbcf75ef",
   "metadata": {},
   "outputs": [],
   "source": [
    "import matplotlib.pyplot as plt\n",
    "%matplotlib inline\n",
    "import IPython.display as ipd\n",
    "import librosa\n",
    "import librosa.display\n",
    "import os\n",
    "import soundfile as sf\n",
    "import json\n",
    "import random\n",
    "from sklearn import preprocessing\n",
    "from keras.utils import to_categorical\n",
    "from sklearn.model_selection import train_test_split\n",
    "import numpy as np"
   ]
  },
  {
   "cell_type": "code",
   "execution_count": 100,
   "id": "c6ffb974",
   "metadata": {
    "scrolled": false
   },
   "outputs": [],
   "source": [
    "def get_files_from_path(directory):\n",
    "    path_files = []\n",
    "    dir_list = os.listdir(directory)\n",
    "    for path in dir_list:\n",
    "        path_files.append(directory+\"\\\\\"+path)\n",
    "    return path_files"
   ]
  },
  {
   "cell_type": "code",
   "execution_count": 125,
   "id": "364254b7",
   "metadata": {},
   "outputs": [],
   "source": [
    "def extract_paths_for_emotions_keys(emotions_code, files_path):\n",
    "    paths = []\n",
    "    emotions_set = set(emotions_code)\n",
    "    for code_file in files_path:\n",
    "        #print(emotions_set, code_file[85:88])\n",
    "        if (code_file[85:88] in emotions_set):\n",
    "            paths.append(code_file)\n",
    "    return paths\n",
    "\n",
    "def extract_paths_for_emotions_keys_savee(emotions_code, files_path):\n",
    "    paths = []\n",
    "    emotions_set = set(emotions_code)\n",
    "    for code_file in files_path:\n",
    "        if (code_file[74] in emotions_set):\n",
    "            paths.append(code_file)\n",
    "    return paths"
   ]
  },
  {
   "cell_type": "code",
   "execution_count": 105,
   "id": "fc8cf7ad",
   "metadata": {},
   "outputs": [],
   "source": [
    "def features_extractor(file_name):\n",
    "    audio, sample_rate = librosa.load(file_name, res_type='kaiser_fast')\n",
    "    mfccs_features = librosa.feature.mfcc(y=audio,sr=sample_rate,n_mfcc=40)\n",
    "    mfccs_scaled_features = np.mean(mfccs_features.T, axis=0)\n",
    "    return mfccs_scaled_features"
   ]
  },
  {
   "cell_type": "code",
   "execution_count": 106,
   "id": "ddd2259b",
   "metadata": {},
   "outputs": [],
   "source": [
    "def save_elements_in_json(examples_saved, name):\n",
    "    json_files = []\n",
    "    json_file = {}\n",
    "    index = 0\n",
    "    for file in examples_saved:\n",
    "        json_file = {\"id\": index, \"features\":[str(elem) for elem in file[0]] ,\"code\":file[1], \"path\":file[2]}\n",
    "        json_files.append(json_file)\n",
    "        index += 1\n",
    "    json_object = json.dumps(json_files)\n",
    "    with open(f\"{name}.json\", \"w\") as outfile:\n",
    "        outfile.write(json_object)"
   ]
  },
  {
   "cell_type": "code",
   "execution_count": 11,
   "id": "2a4bc434",
   "metadata": {},
   "outputs": [],
   "source": [
    "files_path = get_files_from_path(f\"{os.getcwd()}\\\\..\\\\Datasets\\\\AudioWav\")\n",
    "emotions_code = [\"NEU\", \"FEA\",\"ANG\"]\n",
    "datas_files = extract_paths_for_emotions_keys(emotions_code, files_path)"
   ]
  },
  {
   "cell_type": "code",
   "execution_count": 126,
   "id": "54a6538b",
   "metadata": {},
   "outputs": [],
   "source": [
    "files_path_s = get_files_from_path(f\"{os.getcwd()}\\\\..\\\\Datasets\\\\ALL\")\n",
    "emotions_code_s = [\"a\", \"f\",\"n\"]\n",
    "datas_files_s = extract_paths_for_emotions_keys_savee(emotions_code_s, files_path_s) "
   ]
  },
  {
   "cell_type": "code",
   "execution_count": 168,
   "id": "0fcc9ccd",
   "metadata": {},
   "outputs": [],
   "source": [
    "examples = []\n",
    "examples_saved = []\n",
    "files_filters = dict()\n",
    "files_filters[\"NEU\"] = 0\n",
    "files_filters[\"FEA\"] = 0\n",
    "files_filters[\"ANG\"] = 0\n",
    "\n",
    "for i in datas_files:\n",
    "    file_stats = os.stat(i)\n",
    "    #print(f'File Size in Bytes is {file_stats.st_size}', i[85:88])\n",
    "    if (file_stats.st_size > 44):\n",
    "        feature = features_extractor(i)\n",
    "        examples.append(feature)\n",
    "        files_filters[i[85:88]]+= 1\n",
    "        examples_saved.append((feature, i[85:88], i))"
   ]
  },
  {
   "cell_type": "code",
   "execution_count": 169,
   "id": "a2cf0528",
   "metadata": {},
   "outputs": [
    {
     "name": "stdout",
     "output_type": "stream",
     "text": [
      "3628\n",
      "{'NEU': 1087, 'FEA': 1271, 'ANG': 1270}\n"
     ]
    }
   ],
   "source": [
    "print(len(examples))\n",
    "print(files_filters)"
   ]
  },
  {
   "cell_type": "code",
   "execution_count": 141,
   "id": "914e3666",
   "metadata": {},
   "outputs": [],
   "source": [
    "examples_s = []\n",
    "examples_saved_s = []\n",
    "files_filters_s = dict()\n",
    "files_filters_s[\"a\"] = 0\n",
    "files_filters_s[\"f\"] = 0\n",
    "files_filters_s[\"n\"] = 0\n",
    "\n",
    "for i in datas_files_s:\n",
    "    file_stats_s = os.stat(i)\n",
    "    #print(f'File Size in Bytes is {file_stats.st_size}', i[85:88])\n",
    "    if (file_stats_s.st_size > 44):\n",
    "        feature_s = features_extractor(i)\n",
    "        examples_s.append(feature_s)\n",
    "        files_filters_s[i[74]]+= 1\n",
    "        examples_saved_s.append((feature_s, i[74], i))"
   ]
  },
  {
   "cell_type": "code",
   "execution_count": 142,
   "id": "ae79cf02",
   "metadata": {},
   "outputs": [
    {
     "name": "stdout",
     "output_type": "stream",
     "text": [
      "240\n",
      "{'a': 60, 'f': 60, 'n': 120}\n"
     ]
    }
   ],
   "source": [
    "print(len(examples_s))\n",
    "print(files_filters_s)"
   ]
  },
  {
   "cell_type": "code",
   "execution_count": 135,
   "id": "278f895d",
   "metadata": {},
   "outputs": [],
   "source": [
    "def load_elements(name):\n",
    "    f = open(f'{name}.json')\n",
    "    data = json.load(f)\n",
    "    examples = []\n",
    "    for element in data:\n",
    "        examples.append(([float(feature) for feature in (element[\"features\"])], element[\"code\"]))\n",
    "    return examples\n",
    "\n",
    "examples = load_elements(\"sample\")"
   ]
  },
  {
   "cell_type": "code",
   "execution_count": 136,
   "id": "ab7c5aa9",
   "metadata": {},
   "outputs": [],
   "source": [
    "def select_elements(examples, code, quantity, new_code):\n",
    "    random.shuffle(examples)\n",
    "    elements = []\n",
    "    counter = 1\n",
    "    for example in examples:\n",
    "        if (counter > quantity):\n",
    "            break\n",
    "        if code == example[1]:\n",
    "            elements.append((example[0],new_code))\n",
    "            counter = counter + 1\n",
    "    return elements\n",
    "        "
   ]
  },
  {
   "cell_type": "code",
   "execution_count": 145,
   "id": "ba770743",
   "metadata": {},
   "outputs": [],
   "source": [
    "examples_s = [] \n",
    "for example in examples_saved_s:\n",
    "    examples_s.append((example[0], example[1]))"
   ]
  },
  {
   "cell_type": "code",
   "execution_count": 146,
   "id": "13fa56b3",
   "metadata": {},
   "outputs": [],
   "source": [
    "datas = select_elements(examples, 'NEU', 896,\"without_stress\")+select_elements(examples, 'ANG', 550, \"stress\")+select_elements(examples, 'FEA', 550, \"stress\")+select_elements(examples_s, 'a', 60, \"stress\")+select_elements(examples_s, 'f', 60, \"stress\")+select_elements(examples_s, 'n', 120, \"without_stress\")\n",
    "random.shuffle(datas)"
   ]
  },
  {
   "cell_type": "code",
   "execution_count": 149,
   "id": "deae85f3",
   "metadata": {},
   "outputs": [],
   "source": [
    "X = []\n",
    "y = []\n",
    "for data in datas:\n",
    "    X.append(data[0])\n",
    "    y.append(data[1])"
   ]
  },
  {
   "cell_type": "code",
   "execution_count": 150,
   "id": "80e89853",
   "metadata": {},
   "outputs": [],
   "source": [
    "labelencoder=preprocessing.LabelEncoder()\n",
    "y = to_categorical(labelencoder.fit_transform(y))"
   ]
  },
  {
   "cell_type": "code",
   "execution_count": 151,
   "id": "3986252e",
   "metadata": {},
   "outputs": [],
   "source": [
    "X_train, X_test, y_train, y_test = train_test_split(X, y, test_size =0.2,random_state=0)"
   ]
  },
  {
   "cell_type": "code",
   "execution_count": 152,
   "id": "27a37435",
   "metadata": {},
   "outputs": [
    {
     "name": "stdout",
     "output_type": "stream",
     "text": [
      "1788 448 1788 448\n"
     ]
    }
   ],
   "source": [
    "print(len(X_train),len(X_test),len(y_train),len(y_test))"
   ]
  },
  {
   "cell_type": "code",
   "execution_count": 119,
   "id": "2fb8ef10",
   "metadata": {},
   "outputs": [],
   "source": [
    "#\"C:\\\\Users\\\\bacs2\\\\Downloads\\\\Taller De Grado\\\\Previous\\\\Datasets\\\\AudioWAV\\\\1001_DFA_ANG_XX.wav\""
   ]
  }
 ],
 "metadata": {
  "kernelspec": {
   "display_name": "Python 3 (ipykernel)",
   "language": "python",
   "name": "python3"
  },
  "language_info": {
   "codemirror_mode": {
    "name": "ipython",
    "version": 3
   },
   "file_extension": ".py",
   "mimetype": "text/x-python",
   "name": "python",
   "nbconvert_exporter": "python",
   "pygments_lexer": "ipython3",
   "version": "3.9.8"
  }
 },
 "nbformat": 4,
 "nbformat_minor": 5
}
